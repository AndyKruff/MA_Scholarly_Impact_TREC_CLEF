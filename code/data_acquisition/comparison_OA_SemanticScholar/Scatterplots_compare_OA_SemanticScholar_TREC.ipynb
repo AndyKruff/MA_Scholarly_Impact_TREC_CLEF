{
 "cells": [
  {
   "cell_type": "code",
   "execution_count": 35,
   "id": "6b069d82-f149-4e91-9231-87bebd77f4a4",
   "metadata": {},
   "outputs": [],
   "source": [
    "import json\n",
    "from thefuzz import fuzz\n",
    "import matplotlib.pyplot as plt"
   ]
  },
  {
   "cell_type": "code",
   "execution_count": 36,
   "id": "8f385868-bb84-448d-ac48-a65360d2e321",
   "metadata": {},
   "outputs": [],
   "source": [
    "with open('../../../data/OpenAlex_TREC.json', 'r', encoding=\"utf-8\") as file:\n",
    "    OpenAlex_Trec = json.load(file)"
   ]
  },
  {
   "cell_type": "code",
   "execution_count": 37,
   "id": "e7361a2d-909d-42a0-9dc9-1591d3b0205a",
   "metadata": {},
   "outputs": [],
   "source": [
    "with open('../../../data/SemanticScholar_TREC.json', 'r', encoding=\"utf-8\") as file:\n",
    "    Semantic_Scholar_Trec = json.load(file)"
   ]
  },
  {
   "cell_type": "code",
   "execution_count": 38,
   "id": "235f9934-9e7e-442c-8e4a-2588d201375d",
   "metadata": {},
   "outputs": [
    {
     "data": {
      "text/plain": [
       "{'error': 'Paper with id d19009c71873e08035a75e8ec55bda650bdc5f9 not found'}"
      ]
     },
     "execution_count": 38,
     "metadata": {},
     "output_type": "execute_result"
    }
   ],
   "source": [
    "Semantic_Scholar_Trec.pop('trec_76')\n"
   ]
  },
  {
   "cell_type": "code",
   "execution_count": 39,
   "id": "39031f86-14d1-4bea-b917-343ce7ded4a4",
   "metadata": {},
   "outputs": [],
   "source": [
    "total_document_ids_found = list(set(list(OpenAlex_Trec.keys()) + list(Semantic_Scholar_Trec.keys())))"
   ]
  },
  {
   "cell_type": "code",
   "execution_count": 40,
   "id": "2bd0b17b-3b63-43ce-87b3-588db9584501",
   "metadata": {},
   "outputs": [],
   "source": [
    "shared_ids_between_sources = list(set(OpenAlex_Trec.keys()) & set(Semantic_Scholar_Trec.keys()))\n"
   ]
  },
  {
   "cell_type": "code",
   "execution_count": 41,
   "id": "1de9e6f1-2b35-4b95-b676-ec4f2c0c01e4",
   "metadata": {},
   "outputs": [],
   "source": [
    "# Combine the citation data from both sources in nested list\n",
    "\n",
    "merged_citation_data = []\n",
    "for i in shared_ids_between_sources:\n",
    "    citation_info = [i]\n",
    "    try:\n",
    "        citation_info.append(OpenAlex_Trec[i][\"cited_by_count\"])\n",
    "    except:\n",
    "        citation_info.append(None)\n",
    "    try:\n",
    "        citation_info.append(int(Semantic_Scholar_Trec[i][\"citationCount\"]))\n",
    "    except:\n",
    "        citation_info.append(None)\n",
    "    merged_citation_data.append(citation_info)"
   ]
  },
  {
   "cell_type": "code",
   "execution_count": 42,
   "id": "021e9894-1bb2-4b6e-9d3d-2d1531b130e7",
   "metadata": {
    "scrolled": true
   },
   "outputs": [],
   "source": [
    "sorted_data_by_first = sorted(merged_citation_data, key=lambda x: (x[1], x[0]), reverse=True)\n",
    "rank = 1\n",
    "for item in sorted_data_by_first:\n",
    "    item.append(rank)\n",
    "    rank += 1\n",
    "\n",
    "# Sortiere die Liste basierend auf der zweiten Zahl in jeder inneren Liste (Index 2)\n",
    "sorted_data_by_second = sorted(merged_citation_data, key=lambda x: (x[2], x[0]), reverse=True)\n",
    "rank = 1\n",
    "for item in sorted_data_by_second:\n",
    "    item.append(rank)\n",
    "    rank += 1"
   ]
  },
  {
   "cell_type": "code",
   "execution_count": 43,
   "id": "17ba6951-804a-4276-a7c2-dc4c4b4ddc7f",
   "metadata": {},
   "outputs": [],
   "source": [
    "with open('../../../data/OpenAlex_TREC_citing_doc.json', 'r', encoding=\"utf-8\") as file:\n",
    "    OpenAlex_Trec_addition = json.load(file)"
   ]
  },
  {
   "cell_type": "code",
   "execution_count": 44,
   "id": "46feccf2-5616-4050-b846-7033d2e907e7",
   "metadata": {},
   "outputs": [],
   "source": [
    "with open('../../../data/SemanticScholar_TREC_additional_metadata.json', 'r', encoding=\"utf-8\") as file:\n",
    "    Semantic_Trec_addition = json.load(file)"
   ]
  },
  {
   "cell_type": "code",
   "execution_count": 45,
   "id": "10b2d646-3424-4c7c-9954-899d57220496",
   "metadata": {},
   "outputs": [],
   "source": [
    "combined_citation_titles = []\n",
    "for i in shared_ids_between_sources:\n",
    "    citation_titles_for_id = [i]\n",
    "    try:\n",
    "        citations_oa = []\n",
    "        for j in OpenAlex_Trec_addition[i]:\n",
    "            if j[\"title\"] is not None:\n",
    "                citations_oa.append(j[\"title\"])\n",
    "        citation_titles_for_id.append(citations_oa)\n",
    "    except:\n",
    "        print(\"OpenAlex None\")\n",
    "        citation_titles_for_id.append(None)\n",
    "    try:\n",
    "        citations_ss = []\n",
    "        for k in Semantic_Trec_addition[i][\"citations\"]:\n",
    "            if k[\"title\"] is not None:\n",
    "                citations_ss.append(k[\"title\"])\n",
    "        citation_titles_for_id.append(citations_ss)\n",
    "    except:\n",
    "        print(\"Semantic None\")\n",
    "        citation_titles_for_id.append(None)\n",
    "    combined_citation_titles.append(citation_titles_for_id)"
   ]
  },
  {
   "cell_type": "code",
   "execution_count": 46,
   "id": "167ad24a-c71c-4fc3-a985-5155601e64e9",
   "metadata": {},
   "outputs": [],
   "source": [
    "non_empty_citation_lists = []\n",
    "for i in combined_citation_titles:\n",
    "    if len(i[1]) > 0 and len(i[2]) > 0:\n",
    "        non_empty_citation_lists.append(i)"
   ]
  },
  {
   "cell_type": "code",
   "execution_count": 47,
   "id": "30b0be21-414c-4cd6-8eaf-e51c43fe27d3",
   "metadata": {
    "scrolled": true
   },
   "outputs": [],
   "source": [
    "def count_overlaps(list1, list2):\n",
    "    count = 0\n",
    "    for item1 in list1:\n",
    "        for item2 in list2:\n",
    "            if fuzz.ratio(item1, item2) > 60: \n",
    "                count += 1\n",
    "                break  \n",
    "    return count\n",
    "\n",
    "for inner_list in non_empty_citation_lists:\n",
    "    overlap_count = count_overlaps(inner_list[1], inner_list[2])\n",
    "    inner_list.append((overlap_count/(len(inner_list[1]) + len(inner_list[2])))*100)"
   ]
  },
  {
   "cell_type": "code",
   "execution_count": 48,
   "id": "888e7735-d97e-4c28-8906-0c28b752ab81",
   "metadata": {},
   "outputs": [],
   "source": [
    "for i in non_empty_citation_lists:\n",
    "    i.append(Semantic_Scholar_Trec[i[0]][\"citationCount\"] - OpenAlex_Trec[i[0]][\"cited_by_count\"])"
   ]
  },
  {
   "cell_type": "code",
   "execution_count": 49,
   "id": "8c3ac78f-dedb-4030-af10-72d5a4f94402",
   "metadata": {},
   "outputs": [],
   "source": [
    "x_values = [item[1] for item in merged_citation_data]\n",
    "y_values = [item[2] for item in merged_citation_data]\n",
    "x_values_2 = [item[3] for item in merged_citation_data]\n",
    "y_values_2 = [item[4] for item in merged_citation_data]\n",
    "x_values_3 = [item[3] for item in merged_citation_data if item[3] <= 100][:100]\n",
    "y_values_3 = [item[4] for item in merged_citation_data if item[4] <= 100][:100]\n",
    "x_values_4 = [item[4] for item in non_empty_citation_lists]\n",
    "y_values_4 = [item[3] for item in non_empty_citation_lists]"
   ]
  },
  {
   "cell_type": "code",
   "execution_count": 50,
   "id": "ee99ad34-ed1e-4eb5-a1cc-bd3dbfdba97a",
   "metadata": {},
   "outputs": [
    {
     "data": {
      "image/png": "[encoded data removed]",
      "text/plain": [
       "<Figure size 600x300 with 4 Axes>"
      ]
     },
     "metadata": {},
     "output_type": "display_data"
    }
   ],
   "source": [
    "axis_limit_1 = 100  \n",
    "axis_limit_2 = 1700\n",
    "axis_limit_3 = 100\n",
    "#axis_limit_3 = 100\n",
    "fig, axs = plt.subplots(1, 4, figsize=(6, 3))\n",
    "\n",
    "axs[0].scatter(x_values, y_values, color='black',s=1)\n",
    "axs[0].set_xlabel('# Citation Count (OpenAlex)', fontsize=5)\n",
    "axs[0].set_ylabel('# Citation Count (SemanticScholar)', fontsize=5)\n",
    "axs[0].set_title('(a) all', fontsize=8)\n",
    "axs[0].set_xlim(0, axis_limit_1)\n",
    "axs[0].set_ylim(0, axis_limit_1)\n",
    "axs[0].set_aspect('equal', adjustable='box')\n",
    "\n",
    "axs[1].scatter(x_values_2, y_values_2, color='black',s=1)\n",
    "axs[1].set_xlabel('Citation Rank (OpenAlex)', fontsize=5)\n",
    "axs[1].set_ylabel('Citation Rank (SemanticScholar)', fontsize=5)\n",
    "axs[1].set_title('(b) comparison', fontsize=8)\n",
    "axs[1].set_xlim(0, axis_limit_2)\n",
    "axs[1].set_ylim(0, axis_limit_2)\n",
    "#axs[1].grid(True)\n",
    "axs[1].set_aspect('equal', adjustable='box')\n",
    "\n",
    "axs[2].scatter(x_values_3, y_values_3, color='black',s=1)\n",
    "axs[2].set_xlabel('Citation Rank (OpenAlex)', fontsize=5)\n",
    "axs[2].set_ylabel('Citation Rank (SemanticScholar)', fontsize=5)\n",
    "axs[2].set_title('(c) comparison top 100', fontsize=8)\n",
    "axs[2].set_xlim(0, axis_limit_3)\n",
    "axs[2].set_ylim(0, axis_limit_3)\n",
    "axs[2].set_aspect('equal', adjustable='box')\n",
    "\n",
    "axs[3].scatter(x_values_4, y_values_4, color='black',s=1)\n",
    "axs[3].set_ylabel('Citing Paper Overlap in %', fontsize=5)\n",
    "axs[3].set_xlabel('Citation Difference', fontsize=5)\n",
    "axs[3].set_title('(d) ', fontsize=8)\n",
    "\n",
    "plt.tight_layout()\n",
    "plt.savefig('../../../images/scatterplots_trec.png', dpi=300)  # Save the figure as a PNG file with 300 dpi\n",
    "\n",
    "plt.show()"
   ]
  }
 ],
 "metadata": {
  "kernelspec": {
   "display_name": "Python (MasterThesisEnv)",
   "language": "python",
   "name": "masterthesisenv"
  },
  "language_info": {
   "codemirror_mode": {
    "name": "ipython",
    "version": 3
   },
   "file_extension": ".py",
   "mimetype": "text/x-python",
   "name": "python",
   "nbconvert_exporter": "python",
   "pygments_lexer": "ipython3",
   "version": "3.10.8"
  }
 },
 "nbformat": 4,
 "nbformat_minor": 5
}
