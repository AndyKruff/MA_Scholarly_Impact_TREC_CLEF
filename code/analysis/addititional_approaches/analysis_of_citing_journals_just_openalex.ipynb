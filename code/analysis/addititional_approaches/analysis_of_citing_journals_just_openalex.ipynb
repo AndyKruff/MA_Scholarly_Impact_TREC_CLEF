{
 "cells": [
  {
   "cell_type": "code",
   "execution_count": 1,
   "id": "418657eb-b2d9-4c77-b3cf-10fbec06b2a7",
   "metadata": {},
   "outputs": [],
   "source": [
    "import json\n",
    "import pandas as pd\n",
    "from scipy.stats import shapiro\n",
    "from thefuzz import fuzz\n",
    "from thefuzz import process\n",
    "from pyalex import Works, Authors, Sources, Institutions, Topics, Publishers, Funders\n",
    "from scipy.stats import levene\n",
    "from scipy.stats import mannwhitneyu\n",
    "import numpy as np"
   ]
  },
  {
   "cell_type": "code",
   "execution_count": 2,
   "id": "f5f692ed-dc3f-4926-850c-38ed44b9fffa",
   "metadata": {},
   "outputs": [],
   "source": [
    "def get_journals_from_OpenAlex(path_openalex, source_type):\n",
    "    \"\"\" Extracting journals that are citing a proceeding document \n",
    "\n",
    "    Extracts the corresponding journals names and their OpenAlex IDs, that are citing document with ID.\n",
    "    \n",
    "    Args:\n",
    "        path_openalex (str): Path to the Json File including the citing documents\n",
    "        source_type (str): Allows to select between Journal and Conference sources\n",
    "\n",
    "    Returns:\n",
    "        df_OA: Dataframe including the document ID and the corresponding journals \n",
    "\n",
    "    \"\"\"\n",
    "    # Readin the json file with the citing documents\n",
    "    with open(path_openalex, 'r', encoding=\"utf-8\") as file:\n",
    "        OpenAlexCitations = json.load(file)\n",
    "\n",
    "    journals_open_alex = []\n",
    "    for i in OpenAlexCitations:\n",
    "        list_journals = []\n",
    "        for j in OpenAlexCitations[i]:\n",
    "            if j.get(\"primary_location\") and j[\"primary_location\"].get(\"source\") and j[\"primary_location\"][\"source\"].get(\"type\") == source_type:\n",
    "                try:\n",
    "                    # Adding the journal names and ids \n",
    "                    list_journals.append([j[\"primary_location\"][\"source\"][\"display_name\"], j[\"primary_location\"][\"source\"][\"id\"]])\n",
    "                except:\n",
    "                    continue\n",
    "        journals_open_alex.append([i, list_journals])\n",
    "\n",
    "    # Creating the dataframe including the ID and the corresponding journals\n",
    "    df_OA = pd.DataFrame(journals_open_alex, columns=[\"ID\", f\"{source_type}s\"])\n",
    "    \n",
    "    return df_OA"
   ]
  },
  {
   "cell_type": "code",
   "execution_count": 5,
   "id": "000c901b-c8a6-4171-8e71-3731ab8e3329",
   "metadata": {},
   "outputs": [],
   "source": [
    "# Creating the dataframes with the citing journals for all three proceedings\n",
    "\n",
    "df_ceur_journals = get_journals_from_OpenAlex(\"../../../data/OpenAlex_CEUR_citing_doc.json\", source_type=\"journal\")\n",
    "df_lncs_journals = get_journals_from_OpenAlex(\"../../../data/OpenAlex_LNCS_citing_doc.json\", source_type=\"journal\")\n",
    "df_trec_journals = get_journals_from_OpenAlex(\"../../../data/OpenAlex_TREC_citing_doc.json\", source_type=\"journal\")"
   ]
  },
  {
   "cell_type": "code",
   "execution_count": 7,
   "id": "f0f2783c-11b6-41dc-9160-ca5bd2a6ddbd",
   "metadata": {},
   "outputs": [],
   "source": [
    "def group_similar_strings(journal_name_list, threshold):\n",
    "    \"\"\" Group strings by fuzzy-matching \n",
    "\n",
    "    Match up and aggregate journal names, that are similar to a certain degree depending on the choosen treshhold\n",
    "        \n",
    "    Args:\n",
    "        strings (list): List of strings containing the found journal names\n",
    "        treshold (int): Defines the percentage of overlap in order to aggregate two strings\n",
    "\n",
    "    Returns:\n",
    "        aggregated_journal_names: Nested list including the journal names\n",
    "\n",
    "    \"\"\"\n",
    "    \n",
    "    aggregated_journal_names = []\n",
    "\n",
    "    # Create nested list for all journal names and set all on false to keep track which where already been tried to be aggregated\n",
    "    visited = [False] * len(journal_name_list)\n",
    "\n",
    "    for i in range(len(journal_name_list)):\n",
    "\n",
    "        # If visited[i] was set to true, do not try to aggregate this journal name again and skip\n",
    "        if visited[i]:\n",
    "            continue  \n",
    "\n",
    "        # Creating a new aggregation, starting with the actual journal name\n",
    "        group = [journal_name_list[i]]  \n",
    "        \n",
    "        # Set the index of visited to true, in order to not aggregate these in the future again\n",
    "        visited[i] = True  \n",
    "\n",
    "        # Search for additional journal names that match with the one that is currently observed\n",
    "        for j in range(i + 1, len(journal_name_list)):\n",
    "            # Don't try to aggregate journal name again\n",
    "            if visited[j]:\n",
    "                continue  \n",
    "\n",
    "            # Calculate the fuzzy match similarity between the current journal name and the following ones\n",
    "            similarity = fuzz.ratio(journal_name_list[i][0], journal_name_list[j][0])\n",
    "\n",
    "            # Aggregate the journal names if similarity is higher than the treshold\n",
    "            if similarity >= threshold:\n",
    "                group.append(journal_name_list[j])  \n",
    "                visited[j] = True  \n",
    "\n",
    "        aggregated_journal_names.append(group)  \n",
    "\n",
    "    return aggregated_journal_names"
   ]
  },
  {
   "cell_type": "code",
   "execution_count": 8,
   "id": "2400d384-910d-439c-b682-3e7c4ab4c055",
   "metadata": {},
   "outputs": [],
   "source": [
    "def aggregate_unique_journals(df, threshold):\n",
    "    \"\"\" Extract journal impact from OpenAlex \n",
    "\n",
    "    Extract the journal impact from all identified unique aggregated journal names by their IDs.\n",
    "            \n",
    "    Args:\n",
    "        df (DataFrame): DataFrame created in get_journals_from_OpenAlex\n",
    "        treshold (int): Defines the percentage of overlap in order to aggregate two strings\n",
    "\n",
    "    Returns:\n",
    "        journal_dict: Dictionary containing the an assigned journal ID as key and journal impact, name and OpenAlex ID as nested list \n",
    "\n",
    "    \"\"\"\n",
    "    # Identify unique journals by name\n",
    "    unique_journals_open_alex = []\n",
    "    for i in df[\"Journals\"]:\n",
    "        if type(i) == list:\n",
    "            for j in i:\n",
    "                if j not in unique_journals_open_alex:\n",
    "                    unique_journals_open_alex.append(j)\n",
    "\n",
    "    # Aggregate journal names by fuzzy matching the journal names \n",
    "    similar_groups = group_similar_strings(unique_journals_open_alex, threshold)\n",
    "    for group in similar_groups:\n",
    "        if len(group) > 1:\n",
    "            print(group)\n",
    "\n",
    "    # Creating dictionary containing the aggregated journal names under a single ID and additionally extract the journal impact from OpenAlex for all journals\n",
    "    journal_dict = {}\n",
    "    for i in range(len(similar_groups)):\n",
    "        journal_dict[f\"journal_{i}\"] = similar_groups[i]\n",
    "    for i,j in journal_dict.items():\n",
    "        for k in j:\n",
    "            impact_factor = Sources()[k[1].replace(\"https://openalex.org/\", \"\")][\"summary_stats\"][\"2yr_mean_citedness\"]\n",
    "            k.append(impact_factor)\n",
    "    return journal_dict"
   ]
  },
  {
   "cell_type": "code",
   "execution_count": 9,
   "id": "c5380bd6-7a52-4857-959c-65871c80c764",
   "metadata": {
    "scrolled": true
   },
   "outputs": [
    {
     "name": "stdout",
     "output_type": "stream",
     "text": [
      "[['International journal of computer applications', 'https://openalex.org/S4210206007'], ['International journal of computers & applications', 'https://openalex.org/S87797848']]\n",
      "[['Informatica', 'https://openalex.org/S57195646'], ['Informatica', 'https://openalex.org/S4210173311']]\n",
      "[['IX Workshop de Investigadores en Ciencias de la Computación', 'https://openalex.org/S4306514727'], ['XII Workshop de Investigadores en Ciencias de la Computación', 'https://openalex.org/S4306535119']]\n",
      "[['International journal of computer applications', 'https://openalex.org/S4210206007'], ['International journal of computers & applications', 'https://openalex.org/S87797848']]\n",
      "[['XII Workshop de Investigadores en Ciencias de la Computación', 'https://openalex.org/S4306535119'], ['XIII Workshop de Investigadores en Ciencias de la Computación', 'https://openalex.org/S4306535111'], ['IX Workshop de Investigadores en Ciencias de la Computación', 'https://openalex.org/S4306514727']]\n",
      "[['Information Research', 'https://openalex.org/S163673364'], ['Information research', 'https://openalex.org/S4210195660']]\n"
     ]
    }
   ],
   "source": [
    "# Aggregate the journal names and extract the journal impacts for all three proceedings\n",
    "\n",
    "threshold = 95\n",
    "journal_dict_ceur = aggregate_unique_journals(df_ceur_journals, threshold)\n",
    "\n",
    "threshold = 95\n",
    "journal_dict_lncs = aggregate_unique_journals(df_lncs_journals, threshold)\n",
    "\n",
    "threshold = 95\n",
    "journal_dict_trec = aggregate_unique_journals(df_trec_journals, threshold)"
   ]
  },
  {
   "cell_type": "code",
   "execution_count": 63,
   "id": "b775afaf-2e54-4f21-a892-b92de07b4526",
   "metadata": {},
   "outputs": [],
   "source": [
    "def replace_journal_names_by_id(nested_lst):\n",
    "    \"\"\" Replace journal names by journal ID\n",
    "\n",
    "    Replacing the journal names assigned to a doc by the corresponding journal IDs-\n",
    "    \n",
    "    Args:\n",
    "        nested_lst (lst): Nested list containing the journal name and the journal OpenAlex ID\n",
    "\n",
    "    Returns:\n",
    "        replaced_list: Contains a list of Journal IDs\n",
    "\n",
    "    \"\"\"\n",
    "    replaced_list = []\n",
    "\n",
    "    # Iterate through the assigned nested list of journals\n",
    "    for sublist in nested_lst:\n",
    "        # Replace journal name through Journal ID based on journal_dict_openalex_inverse\n",
    "        replaced_sublist = journal_dict_openalex_inverse.get(sublist[0], sublist[0]) \n",
    "        replaced_list.append(replaced_sublist)\n",
    "\n",
    "    return replaced_list\n",
    "\n",
    "# Replace the journal names by the aggregated journal IDs\n",
    "journal_dict_openalex_inverse = {v[0]: k for k, values in journal_dict_ceur.items() for v in values}\n",
    "df_ceur_journals['journals'] = df_ceur_journals['journals'].apply(lambda x: replace_journal_names_by_id(x) if isinstance(x, list) else x)"
   ]
  },
  {
   "cell_type": "code",
   "execution_count": 64,
   "id": "33a3cd3f-d510-4f7e-a97d-2c563e87fa35",
   "metadata": {},
   "outputs": [],
   "source": [
    "journal_dict_openalex_inverse = {v[0]: k for k, values in journal_dict_lncs.items() for v in values}\n",
    "df_lncs_journals['journals'] = df_lncs_journals['journals'].apply(lambda x: replace_journal_names_by_id(x) if isinstance(x, list) else x)"
   ]
  },
  {
   "cell_type": "code",
   "execution_count": 65,
   "id": "0e21aaa6-a017-4589-95aa-733c9123a863",
   "metadata": {},
   "outputs": [],
   "source": [
    "journal_dict_openalex_inverse = {v[0]: k for k, values in journal_dict_trec.items() for v in values}\n",
    "df_trec_journals['journals'] = df_trec_journals['journals'].apply(lambda x: replace_journal_names_by_id(x) if isinstance(x, list) else x)"
   ]
  },
  {
   "cell_type": "code",
   "execution_count": 66,
   "id": "8ca9879c-7eea-4fcd-aa86-cdacea830d29",
   "metadata": {},
   "outputs": [],
   "source": [
    "exploded_df_open_alex_ceur = df_ceur_journals.explode('journals')\n",
    "\n",
    "# Explode the lists of citing journals to count total appearance in the context of CEUR\n",
    "value_counts_open_alex_ceur = exploded_df_open_alex_ceur['journals'].value_counts()\n",
    "value_counts_open_alex_ceur = value_counts_open_alex_ceur.reset_index()\n",
    "value_counts_open_alex_ceur.columns = ['id', 'frequency']\n"
   ]
  },
  {
   "cell_type": "code",
   "execution_count": 67,
   "id": "ffbc562b-7420-4be9-8151-27486cf04568",
   "metadata": {},
   "outputs": [
    {
     "data": {
      "text/html": [
       "<div>\n",
       "<style scoped>\n",
       "    .dataframe tbody tr th:only-of-type {\n",
       "        vertical-align: middle;\n",
       "    }\n",
       "\n",
       "    .dataframe tbody tr th {\n",
       "        vertical-align: top;\n",
       "    }\n",
       "\n",
       "    .dataframe thead th {\n",
       "        text-align: right;\n",
       "    }\n",
       "</style>\n",
       "<table border=\"1\" class=\"dataframe\">\n",
       "  <thead>\n",
       "    <tr style=\"text-align: right;\">\n",
       "      <th></th>\n",
       "      <th>id</th>\n",
       "      <th>frequency</th>\n",
       "    </tr>\n",
       "  </thead>\n",
       "  <tbody>\n",
       "    <tr>\n",
       "      <th>0</th>\n",
       "      <td>j</td>\n",
       "      <td>851</td>\n",
       "    </tr>\n",
       "  </tbody>\n",
       "</table>\n",
       "</div>"
      ],
      "text/plain": [
       "  id  frequency\n",
       "0  j        851"
      ]
     },
     "execution_count": 67,
     "metadata": {},
     "output_type": "execute_result"
    }
   ],
   "source": [
    "value_counts_open_alex_ceur"
   ]
  },
  {
   "cell_type": "code",
   "execution_count": 68,
   "id": "2d4d2e8f-16f5-4c66-97e7-1ff36aa277a0",
   "metadata": {},
   "outputs": [],
   "source": [
    "exploded_df_open_alex_lncs = df_lncs_journals.explode('journals')\n",
    "\n",
    "# Häufigkeiten zählen\n",
    "value_counts_open_alex_lncs = exploded_df_open_alex_lncs['journals'].value_counts()\n",
    "value_counts_open_alex_lncs = value_counts_open_alex_lncs.reset_index()\n",
    "value_counts_open_alex_lncs.columns = ['id', 'frequency']\n"
   ]
  },
  {
   "cell_type": "code",
   "execution_count": 69,
   "id": "f39915b6-4904-4287-ad7d-7e64b086e74a",
   "metadata": {},
   "outputs": [],
   "source": [
    "exploded_df_open_alex_trec = df_trec_journals.explode('journals')\n",
    "\n",
    "# Häufigkeiten zählen\n",
    "value_counts_open_alex_trec = exploded_df_open_alex_trec['journals'].value_counts()\n",
    "value_counts_open_alex_trec = value_counts_open_alex_trec.reset_index()\n",
    "value_counts_open_alex_trec.columns = ['id', 'frequency']\n"
   ]
  },
  {
   "cell_type": "code",
   "execution_count": 70,
   "id": "d275e664-12d4-437c-bc0f-8c28d3540171",
   "metadata": {
    "scrolled": true
   },
   "outputs": [],
   "source": [
    "def calculate_average_journal_impact(id, journal_dict):\n",
    "    \"\"\" Calculate the average journal impact for aggregated journal names\n",
    "\n",
    "        Calculate the average journal impact for aggregated journal names\n",
    "        \n",
    "    id:\n",
    "        id (string): Journal ID representing one or more journal names\n",
    "\n",
    "    Returns:\n",
    "       third_values (float) : Average journal impact for aggregated journal names\n",
    "\n",
    "    \"\"\"\n",
    "    nested_list = journal_dict.get(id, [])\n",
    "\n",
    "    # Iterate through the nested list to gather all corresponding journal impacts\n",
    "    journal_impact_list = [item[2] for item in nested_list if len(item) > 2]\n",
    "    return np.mean(journal_impact_list) if journal_impact_list else np.nan\n",
    "\n",
    "# Funktion zum Hinzufügen der Durchschnittswerte\n",
    "def add_average_journal_impact(df, journal_dict ,source_type):\n",
    "    \"\"\" Add average journal impact\n",
    "\n",
    "        Assign and apply calculate_average_journal_impact to DataFrame\n",
    "        \n",
    "    Args:\n",
    "        df (DataFrame): DataFrame containing the assigned journals for the proceeding documents\n",
    "        journal_dict (Dict): Dictionary containing the journal impacts for every journal name\n",
    "        source_type (str): Define the observation object for correct column naming\n",
    "        \n",
    "        \n",
    "    Returns:\n",
    "       df (DataFrame) : df with additional column for average journal impact \n",
    "\n",
    "    \"\"\"\n",
    "\n",
    "    # Assign a new column to the DataFrame containing the average journal impact for aggregated journal names\n",
    "    df[f'average_{source_type}_impact'] = df['id'].apply(lambda x: calculate_average_journal_impact(x, journal_dict))\n",
    "    return df\n",
    "\n",
    "value_counts_open_alex_ceur = add_average_journal_impact(value_counts_open_alex_ceur, journal_dict_ceur, \"journal\")"
   ]
  },
  {
   "cell_type": "code",
   "execution_count": 71,
   "id": "fcdde730-50dd-4e23-a2a7-b54643f15842",
   "metadata": {},
   "outputs": [],
   "source": [
    "value_counts_open_alex_lncs = add_average_journal_impact(value_counts_open_alex_lncs, journal_dict_lncs, \"journal\")"
   ]
  },
  {
   "cell_type": "code",
   "execution_count": 72,
   "id": "0a5b30b9-3653-4b59-a480-64c799ad2fd0",
   "metadata": {},
   "outputs": [],
   "source": [
    "value_counts_open_alex_trec = add_average_journal_impact(value_counts_open_alex_trec, journal_dict_trec, \"journal\")"
   ]
  },
  {
   "cell_type": "code",
   "execution_count": 73,
   "id": "ab52af6c-11b6-48c5-bde8-e7fe6f32b452",
   "metadata": {},
   "outputs": [],
   "source": [
    "def add_journal_ids(df, journal_dict, source_type):\n",
    "    \"\"\" Assign the corresponding journal names\n",
    "\n",
    "        Assign the corresponding journal names in addition to the corresponding journal IDs\n",
    "        \n",
    "    Args:\n",
    "        df (DataFrame): DataFrame containing the assigned journals for the proceeding documents\n",
    "        journal_dict (Dict): Dictionary containing the journal names for every journal ID\n",
    "        source_type (str): Define the observation object for correct column naming\n",
    "\n",
    "    Returns:\n",
    "       df (DataFrame) : df with additional column for corresponding journal names\n",
    "\n",
    "    \"\"\"\n",
    "    df[f'{source_type}_names'] = df['id'].apply(lambda x: journal_dict.get(x, []))\n",
    "    return df\n",
    "\n",
    "# Anwenden der Funktion\n",
    "value_counts_open_alex_ceur = add_journal_ids(value_counts_open_alex_ceur, journal_dict_ceur, \"journal\")"
   ]
  },
  {
   "cell_type": "code",
   "execution_count": 74,
   "id": "f88f8d26-1f28-40db-bf34-3cc5f5a972dc",
   "metadata": {},
   "outputs": [],
   "source": [
    "top_10 = value_counts_open_alex_ceur.head(11)\n"
   ]
  },
  {
   "cell_type": "code",
   "execution_count": 75,
   "id": "bda7af42-b851-4b30-9366-f2d75046117c",
   "metadata": {},
   "outputs": [
    {
     "data": {
      "text/html": [
       "<div>\n",
       "<style scoped>\n",
       "    .dataframe tbody tr th:only-of-type {\n",
       "        vertical-align: middle;\n",
       "    }\n",
       "\n",
       "    .dataframe tbody tr th {\n",
       "        vertical-align: top;\n",
       "    }\n",
       "\n",
       "    .dataframe thead th {\n",
       "        text-align: right;\n",
       "    }\n",
       "</style>\n",
       "<table border=\"1\" class=\"dataframe\">\n",
       "  <thead>\n",
       "    <tr style=\"text-align: right;\">\n",
       "      <th></th>\n",
       "      <th>id</th>\n",
       "      <th>frequency</th>\n",
       "      <th>average_journal_impact</th>\n",
       "      <th>journal_names</th>\n",
       "    </tr>\n",
       "  </thead>\n",
       "  <tbody>\n",
       "    <tr>\n",
       "      <th>0</th>\n",
       "      <td>j</td>\n",
       "      <td>851</td>\n",
       "      <td>NaN</td>\n",
       "      <td>[]</td>\n",
       "    </tr>\n",
       "  </tbody>\n",
       "</table>\n",
       "</div>"
      ],
      "text/plain": [
       "  id  frequency  average_journal_impact journal_names\n",
       "0  j        851                     NaN            []"
      ]
     },
     "execution_count": 75,
     "metadata": {},
     "output_type": "execute_result"
    }
   ],
   "source": [
    "top_10"
   ]
  },
  {
   "cell_type": "code",
   "execution_count": 76,
   "id": "dd6c169f-7eb6-4f02-bf42-11abc37ec40f",
   "metadata": {},
   "outputs": [],
   "source": [
    "value_counts_open_alex_lncs = add_journal_ids(value_counts_open_alex_lncs, journal_dict_lncs, \"journal\")\n",
    "top_10 = value_counts_open_alex_lncs.head(11)"
   ]
  },
  {
   "cell_type": "code",
   "execution_count": 77,
   "id": "aeef6113-f37d-4812-b603-66156e62884f",
   "metadata": {},
   "outputs": [
    {
     "data": {
      "text/html": [
       "<div>\n",
       "<style scoped>\n",
       "    .dataframe tbody tr th:only-of-type {\n",
       "        vertical-align: middle;\n",
       "    }\n",
       "\n",
       "    .dataframe tbody tr th {\n",
       "        vertical-align: top;\n",
       "    }\n",
       "\n",
       "    .dataframe thead th {\n",
       "        text-align: right;\n",
       "    }\n",
       "</style>\n",
       "<table border=\"1\" class=\"dataframe\">\n",
       "  <thead>\n",
       "    <tr style=\"text-align: right;\">\n",
       "      <th></th>\n",
       "      <th>id</th>\n",
       "      <th>frequency</th>\n",
       "      <th>average_journal_impact</th>\n",
       "      <th>journal_names</th>\n",
       "    </tr>\n",
       "  </thead>\n",
       "  <tbody>\n",
       "    <tr>\n",
       "      <th>0</th>\n",
       "      <td>j</td>\n",
       "      <td>443</td>\n",
       "      <td>NaN</td>\n",
       "      <td>[]</td>\n",
       "    </tr>\n",
       "  </tbody>\n",
       "</table>\n",
       "</div>"
      ],
      "text/plain": [
       "  id  frequency  average_journal_impact journal_names\n",
       "0  j        443                     NaN            []"
      ]
     },
     "execution_count": 77,
     "metadata": {},
     "output_type": "execute_result"
    }
   ],
   "source": [
    "top_10"
   ]
  },
  {
   "cell_type": "code",
   "execution_count": 78,
   "id": "48fdcc28-e105-4f4b-85aa-56bf02a24548",
   "metadata": {},
   "outputs": [],
   "source": [
    "value_counts_open_alex_ceur = add_journal_ids(value_counts_open_alex_trec, journal_dict_trec, \"journal\")\n",
    "top_10 = value_counts_open_alex_trec.head(11)"
   ]
  },
  {
   "cell_type": "code",
   "execution_count": 79,
   "id": "31fec6f2-36db-4d78-af63-6c1db1e931c1",
   "metadata": {},
   "outputs": [
    {
     "data": {
      "text/html": [
       "<div>\n",
       "<style scoped>\n",
       "    .dataframe tbody tr th:only-of-type {\n",
       "        vertical-align: middle;\n",
       "    }\n",
       "\n",
       "    .dataframe tbody tr th {\n",
       "        vertical-align: top;\n",
       "    }\n",
       "\n",
       "    .dataframe thead th {\n",
       "        text-align: right;\n",
       "    }\n",
       "</style>\n",
       "<table border=\"1\" class=\"dataframe\">\n",
       "  <thead>\n",
       "    <tr style=\"text-align: right;\">\n",
       "      <th></th>\n",
       "      <th>id</th>\n",
       "      <th>frequency</th>\n",
       "      <th>average_journal_impact</th>\n",
       "      <th>journal_names</th>\n",
       "    </tr>\n",
       "  </thead>\n",
       "  <tbody>\n",
       "    <tr>\n",
       "      <th>0</th>\n",
       "      <td>j</td>\n",
       "      <td>2151</td>\n",
       "      <td>NaN</td>\n",
       "      <td>[]</td>\n",
       "    </tr>\n",
       "  </tbody>\n",
       "</table>\n",
       "</div>"
      ],
      "text/plain": [
       "  id  frequency  average_journal_impact journal_names\n",
       "0  j       2151                     NaN            []"
      ]
     },
     "execution_count": 79,
     "metadata": {},
     "output_type": "execute_result"
    }
   ],
   "source": [
    "top_10"
   ]
  },
  {
   "cell_type": "markdown",
   "id": "9a2e852c-5104-4065-83b4-3701a3325277",
   "metadata": {},
   "source": [
    "# Significance Tests"
   ]
  },
  {
   "cell_type": "code",
   "execution_count": 118,
   "id": "db4022f1-8f18-4a73-b0c2-5dcd0fb29566",
   "metadata": {},
   "outputs": [],
   "source": [
    "expanded_data_lncs = []\n",
    "\n",
    "for _, row in value_counts_open_alex_lncs.iterrows():\n",
    "    expanded_data_lncs.extend([row['average_journal_impact']] * int(row['frequency']))\n",
    "\n",
    "# Umwandeln der replizierten Daten in ein DataFrame\n",
    "expanded_df_lncs = pd.DataFrame(expanded_data_lncs, columns=['average_journal_impact'])"
   ]
  },
  {
   "cell_type": "code",
   "execution_count": 119,
   "id": "a1983f36-5c0c-458d-b0d7-95b9d50ac853",
   "metadata": {},
   "outputs": [],
   "source": [
    "expanded_data_ceur = []\n",
    "\n",
    "for _, row in value_counts_open_alex_ceur.iterrows():\n",
    "    expanded_data_ceur.extend([row['average_journal_impact']] * int(row['frequency']))\n",
    "\n",
    "# Umwandeln der replizierten Daten in ein DataFrame\n",
    "expanded_df_ceur = pd.DataFrame(expanded_data_ceur, columns=['average_journal_impact'])"
   ]
  },
  {
   "cell_type": "code",
   "execution_count": 121,
   "id": "550db924-dd22-446d-8489-1ab53e7cea69",
   "metadata": {},
   "outputs": [],
   "source": [
    "expanded_data_trec = []\n",
    "\n",
    "for _, row in value_counts_open_alex_trec.iterrows():\n",
    "    expanded_data_trec.extend([row['average_journal_impact']] * int(row['frequency']))\n",
    "\n",
    "# Umwandeln der replizierten Daten in ein DataFrame\n",
    "expanded_df_trec = pd.DataFrame(expanded_data_trec, columns=['average_journal_impact'])"
   ]
  },
  {
   "cell_type": "code",
   "execution_count": 122,
   "id": "f565ca27-5aef-402f-9287-f235044f249f",
   "metadata": {
    "scrolled": true
   },
   "outputs": [
    {
     "data": {
      "text/html": [
       "<div>\n",
       "<style scoped>\n",
       "    .dataframe tbody tr th:only-of-type {\n",
       "        vertical-align: middle;\n",
       "    }\n",
       "\n",
       "    .dataframe tbody tr th {\n",
       "        vertical-align: top;\n",
       "    }\n",
       "\n",
       "    .dataframe thead th {\n",
       "        text-align: right;\n",
       "    }\n",
       "</style>\n",
       "<table border=\"1\" class=\"dataframe\">\n",
       "  <thead>\n",
       "    <tr style=\"text-align: right;\">\n",
       "      <th></th>\n",
       "      <th>average_third_value</th>\n",
       "    </tr>\n",
       "  </thead>\n",
       "  <tbody>\n",
       "    <tr>\n",
       "      <th>0</th>\n",
       "      <td>0.000000</td>\n",
       "    </tr>\n",
       "    <tr>\n",
       "      <th>1</th>\n",
       "      <td>0.000000</td>\n",
       "    </tr>\n",
       "    <tr>\n",
       "      <th>2</th>\n",
       "      <td>0.000000</td>\n",
       "    </tr>\n",
       "    <tr>\n",
       "      <th>3</th>\n",
       "      <td>0.000000</td>\n",
       "    </tr>\n",
       "    <tr>\n",
       "      <th>4</th>\n",
       "      <td>0.000000</td>\n",
       "    </tr>\n",
       "    <tr>\n",
       "      <th>...</th>\n",
       "      <td>...</td>\n",
       "    </tr>\n",
       "    <tr>\n",
       "      <th>4919</th>\n",
       "      <td>0.000000</td>\n",
       "    </tr>\n",
       "    <tr>\n",
       "      <th>4920</th>\n",
       "      <td>3.788506</td>\n",
       "    </tr>\n",
       "    <tr>\n",
       "      <th>4921</th>\n",
       "      <td>1.019748</td>\n",
       "    </tr>\n",
       "    <tr>\n",
       "      <th>4922</th>\n",
       "      <td>0.620253</td>\n",
       "    </tr>\n",
       "    <tr>\n",
       "      <th>4923</th>\n",
       "      <td>2.762352</td>\n",
       "    </tr>\n",
       "  </tbody>\n",
       "</table>\n",
       "<p>4924 rows × 1 columns</p>\n",
       "</div>"
      ],
      "text/plain": [
       "      average_third_value\n",
       "0                0.000000\n",
       "1                0.000000\n",
       "2                0.000000\n",
       "3                0.000000\n",
       "4                0.000000\n",
       "...                   ...\n",
       "4919             0.000000\n",
       "4920             3.788506\n",
       "4921             1.019748\n",
       "4922             0.620253\n",
       "4923             2.762352\n",
       "\n",
       "[4924 rows x 1 columns]"
      ]
     },
     "execution_count": 122,
     "metadata": {},
     "output_type": "execute_result"
    }
   ],
   "source": [
    "expanded_df_trec"
   ]
  },
  {
   "cell_type": "code",
   "execution_count": 123,
   "id": "865d02f9-3326-426e-8a63-ba77c4c775fe",
   "metadata": {},
   "outputs": [
    {
     "name": "stdout",
     "output_type": "stream",
     "text": [
      "Shapiro-Wilk Test Gruppe A: Statistik = 0.6176913219079239, p-Wert = 1.316779083938014e-84\n",
      "Shapiro-Wilk Test Gruppe B: Statistik = 0.5837190337939409, p-Wert = 3.381969043517878e-86\n",
      "Shapiro-Wilk Test Gruppe B: Statistik = 0.5579554903282727, p-Wert = 3.798901261914976e-77\n"
     ]
    },
    {
     "name": "stderr",
     "output_type": "stream",
     "text": [
      "D:\\Studium\\Masterarbeit\\PythonProject\\MasterThesisEnv\\lib\\site-packages\\scipy\\stats\\_axis_nan_policy.py:531: UserWarning: scipy.stats.shapiro: For N > 5000, computed p-value may not be accurate. Current N is 7670.\n",
      "  res = hypotest_fun_out(*samples, **kwds)\n",
      "D:\\Studium\\Masterarbeit\\PythonProject\\MasterThesisEnv\\lib\\site-packages\\scipy\\stats\\_axis_nan_policy.py:531: UserWarning: scipy.stats.shapiro: For N > 5000, computed p-value may not be accurate. Current N is 7566.\n",
      "  res = hypotest_fun_out(*samples, **kwds)\n"
     ]
    }
   ],
   "source": [
    "stat_a, p_value_a = shapiro(expanded_df_ceur['average_journal_impact'])\n",
    "print(f\"Shapiro-Wilk Test CEUR: Statistic = {stat_a}, p-Wert = {p_value_a}\")\n",
    "\n",
    "# Für Gruppe B\n",
    "stat_b, p_value_b = shapiro(expanded_df_lncs['average_journal_impact'])\n",
    "print(f\"Shapiro-Wilk Test LNCS: Statistic = {stat_b}, p-Wert = {p_value_b}\")\n",
    "\n",
    "# Für Gruppe C\n",
    "stat_c, p_value_c = shapiro(expanded_df_trec['average_journal_impact'])\n",
    "print(f\"Shapiro-Wilk Test TREC: Statistic = {stat_c}, p-Wert = {p_value_c}\")"
   ]
  },
  {
   "cell_type": "code",
   "execution_count": 124,
   "id": "4d3f5b15-add5-4c35-85cd-822b99ccc985",
   "metadata": {},
   "outputs": [
    {
     "name": "stdout",
     "output_type": "stream",
     "text": [
      "Levene Test: Statistik = 0.5412804416251655, p-Wert = 0.4619162574620923\n"
     ]
    }
   ],
   "source": [
    "stat, p_value = levene(expanded_df_trec['average_journal_impact'], expanded_df_ceur['average_journal_impact'])\n",
    "print(f\"Levene Test: Statistic = {stat}, p-value = {p_value}\")"
   ]
  },
  {
   "cell_type": "code",
   "execution_count": 125,
   "id": "21978677-8863-4431-b7bf-630c21e3b92e",
   "metadata": {},
   "outputs": [
    {
     "name": "stdout",
     "output_type": "stream",
     "text": [
      "Levene Test: Statistik = 1.9234570486653797, p-Wert = 0.16550081170942765\n"
     ]
    }
   ],
   "source": [
    "stat, p_value = levene(expanded_df_trec['average_journal_impact'], expanded_df_lncs['average_journal_impact'])\n",
    "print(f\"Levene Test: Statistic = {stat}, p-value = {p_value}\")"
   ]
  },
  {
   "cell_type": "code",
   "execution_count": 126,
   "id": "f20f87f3-4f22-4a03-8371-59ef1356f846",
   "metadata": {},
   "outputs": [
    {
     "name": "stdout",
     "output_type": "stream",
     "text": [
      "Mann-Whitney U-Test A vs B: U-Statistik = 13021792.5, p-Wert = 6.982984468971997e-194\n",
      "Mann-Whitney U-Test A vs C: U-Statistik = 10471295.5, p-Wert = 0.0\n"
     ]
    }
   ],
   "source": [
    "# Testing signififance between TREC and CEUR\n",
    "u_stat_ab, p_value_ab = mannwhitneyu(expanded_df_trec['average_journal_impact'], expanded_df_ceur['average_journal_impact'])\n",
    "print(f\"Mann-Whitney U-Test TREC vs CEUR: U-Statistic = {u_stat_ab}, p-Wert = {p_value_ab}\")\n",
    "\n",
    "# Testing signififance between TREC and LNCS\n",
    "u_stat_ac, p_value_ac = mannwhitneyu(expanded_df_trec['average_journal_impact'], expanded_df_lncs['average_journal_impact'])\n",
    "print(f\"Mann-Whitney U-Test TREC vs LNCS: U-Statistic = {u_stat_ac}, p-Wert = {p_value_ac}\")"
   ]
  },
  {
   "cell_type": "code",
   "execution_count": 127,
   "id": "6c002d18-cc51-4bf3-90b5-f9e24e66d376",
   "metadata": {},
   "outputs": [
    {
     "name": "stdout",
     "output_type": "stream",
     "text": [
      "Median A: 0.1330355926480954\n",
      "Median B: 0.5340314136125655\n",
      "Gruppe B hat tendenziell höhere Werte als Gruppe A.\n"
     ]
    }
   ],
   "source": [
    "median_a = expanded_df_trec['average_journal_impact'].median()\n",
    "median_b = expanded_df_ceur['average_journal_impact'].median()\n",
    "\n",
    "print(f\"Median TREC: {median_a}\")\n",
    "print(f\"Median CEUR: {median_b}\")\n",
    "\n",
    "if median_a > median_b:\n",
    "    print(\"TREC tends to have higher values than CEUR\")\n",
    "else:\n",
    "    print(\"CEUR tends to have higher values than TREC\")"
   ]
  },
  {
   "cell_type": "code",
   "execution_count": 128,
   "id": "483a6aa0-e0a3-41a8-9a2a-a9b99ef24ae6",
   "metadata": {},
   "outputs": [
    {
     "name": "stdout",
     "output_type": "stream",
     "text": [
      "Median A: 0.1330355926480954\n",
      "Median B: 1.3917236767655985\n",
      "Gruppe B hat tendenziell höhere Werte als Gruppe A.\n"
     ]
    }
   ],
   "source": [
    "median_a = expanded_df_trec['average_journal_impact'].median()\n",
    "median_b = expanded_df_lncs['average_journal_impact'].median()\n",
    "\n",
    "print(f\"Median TREC: {median_a}\")\n",
    "print(f\"Median LNCS: {median_b}\")\n",
    "\n",
    "if median_a > median_b:\n",
    "    print(\"TREC tends to have higher values than LNCS\")\n",
    "else:\n",
    "    print(\"LNCS tends to have higher values than TREC\")"
   ]
  },
  {
   "cell_type": "markdown",
   "id": "ef014bec-1829-42c2-b2a8-5867acdda80e",
   "metadata": {},
   "source": [
    "## Analysis of top citing conferences\n"
   ]
  },
  {
   "cell_type": "code",
   "execution_count": 105,
   "id": "464df0fd-430f-4289-ac11-6648f5c0e490",
   "metadata": {},
   "outputs": [],
   "source": [
    "# Creating the dataframes with the citing journals for all three proceedings\n",
    "\n",
    "df_ceur_journals = get_journals_from_OpenAlex(\"../../../data/OpenAlex_CEUR_citing_doc.json\", source_type=\"conference\")\n",
    "df_lncs_journals = get_journals_from_OpenAlex(\"../../../data/OpenAlex_LNCS_citing_doc.json\", source_type=\"conference\")\n",
    "df_trec_journals = get_journals_from_OpenAlex(\"../../../data/OpenAlex_TREC_citing_doc.json\", source_type=\"conference\")"
   ]
  },
  {
   "cell_type": "code",
   "execution_count": 106,
   "id": "52ffe2b4-0796-4ea1-a46c-945c56da7bb2",
   "metadata": {},
   "outputs": [
    {
     "name": "stdout",
     "output_type": "stream",
     "text": [
      "[['2021 IEEE International Conference on Bioinformatics and Biomedicine (BIBM)', 'https://openalex.org/S4363607735'], ['2022 IEEE International Conference on Bioinformatics and Biomedicine (BIBM)', 'https://openalex.org/S4363607730']]\n",
      "[['2022 International Arab Conference on Information Technology (ACIT)', 'https://openalex.org/S4363608405'], ['2021 22nd International Arab Conference on Information Technology (ACIT)', 'https://openalex.org/S4363608487']]\n",
      "[['2014 IEEE/WIC/ACM International Joint Conferences on Web Intelligence (WI) and Intelligent Agent Technologies (IAT)', 'https://openalex.org/S4363606372'], ['2013 IEEE/WIC/ACM International Joint Conferences on Web Intelligence (WI) and Intelligent Agent Technologies (IAT)', 'https://openalex.org/S4363606669']]\n",
      "[['2013 Fourth International Conference on Computing, Communications and Networking Technologies (ICCCNT)', 'https://openalex.org/S4306497833'], ['2022 13th International Conference on Computing Communication and Networking Technologies (ICCCNT)', 'https://openalex.org/S4363607876']]\n",
      "[['2013 IEEE/WIC/ACM International Joint Conferences on Web Intelligence (WI) and Intelligent Agent Technologies (IAT)', 'https://openalex.org/S4363606669'], ['2014 IEEE/WIC/ACM International Joint Conferences on Web Intelligence (WI) and Intelligent Agent Technologies (IAT)', 'https://openalex.org/S4363606372']]\n"
     ]
    }
   ],
   "source": [
    "# Aggregate the journal names and extract the journal impacts for all three proceedings\n",
    "\n",
    "threshold = 95\n",
    "journal_dict_ceur = aggregate_unique_journals(df_ceur_journals, threshold)\n",
    "\n",
    "threshold = 95\n",
    "journal_dict_lncs = aggregate_unique_journals(df_lncs_journals, threshold)\n",
    "\n",
    "threshold = 95\n",
    "journal_dict_trec = aggregate_unique_journals(df_trec_journals, threshold)"
   ]
  },
  {
   "cell_type": "code",
   "execution_count": 107,
   "id": "da80f4b6-1f62-4bda-b47e-799e330de138",
   "metadata": {},
   "outputs": [],
   "source": [
    "# Replace the journal names by the aggregated conference IDs\n",
    "journal_dict_openalex_inverse = {v[0]: k for k, values in journal_dict_ceur.items() for v in values}\n",
    "df_ceur_journals['conferences'] = df_ceur_journals['conferences'].apply(lambda x: replace_journal_names_by_id(x) if isinstance(x, list) else x)\n",
    "\n",
    "journal_dict_openalex_inverse = {v[0]: k for k, values in journal_dict_lncs.items() for v in values}\n",
    "df_lncs_journals['conferences'] = df_lncs_journals['conferences'].apply(lambda x: replace_journal_names_by_id(x) if isinstance(x, list) else x)\n",
    "\n",
    "journal_dict_openalex_inverse = {v[0]: k for k, values in journal_dict_trec.items() for v in values}\n",
    "df_trec_journals['conferences'] = df_trec_journals['conferences'].apply(lambda x: replace_journal_names_by_id(x) if isinstance(x, list) else x)"
   ]
  },
  {
   "cell_type": "code",
   "execution_count": 108,
   "id": "03fcdb9c-4034-49c6-92cb-0f1dcf40402d",
   "metadata": {},
   "outputs": [],
   "source": [
    "exploded_df_open_alex_ceur = df_ceur_journals.explode('conferences')\n",
    "\n",
    "# Explode the lists of citing journals to count total appearance in the context of CEUR\n",
    "value_counts_open_alex_ceur = exploded_df_open_alex_ceur['conferences'].value_counts()\n",
    "value_counts_open_alex_ceur = value_counts_open_alex_ceur.reset_index()\n",
    "value_counts_open_alex_ceur.columns = ['id', 'frequency']"
   ]
  },
  {
   "cell_type": "code",
   "execution_count": 109,
   "id": "97435beb-198e-4672-819c-7dd647116705",
   "metadata": {},
   "outputs": [],
   "source": [
    "exploded_df_open_alex_lncs = df_lncs_journals.explode('conferences')\n",
    "\n",
    "# Häufigkeiten zählen\n",
    "value_counts_open_alex_lncs = exploded_df_open_alex_lncs['conferences'].value_counts()\n",
    "value_counts_open_alex_lncs = value_counts_open_alex_lncs.reset_index()\n",
    "value_counts_open_alex_lncs.columns = ['id', 'frequency']"
   ]
  },
  {
   "cell_type": "code",
   "execution_count": 110,
   "id": "6cc44f53-b773-4cd6-affe-823754e7a523",
   "metadata": {},
   "outputs": [],
   "source": [
    "exploded_df_open_alex_trec = df_trec_journals.explode('conferences')\n",
    "\n",
    "# Häufigkeiten zählen\n",
    "value_counts_open_alex_trec = exploded_df_open_alex_trec['conferences'].value_counts()\n",
    "value_counts_open_alex_trec = value_counts_open_alex_trec.reset_index()\n",
    "value_counts_open_alex_trec.columns = ['id', 'frequency']"
   ]
  },
  {
   "cell_type": "code",
   "execution_count": 111,
   "id": "54964d43-6547-433b-8c3c-9db0b5fc210d",
   "metadata": {},
   "outputs": [],
   "source": [
    "value_counts_open_alex_ceur = add_average_journal_impact(value_counts_open_alex_ceur, journal_dict_ceur, \"conference\")\n",
    "value_counts_open_alex_lncs = add_average_journal_impact(value_counts_open_alex_lncs, journal_dict_lncs, \"conference\")\n",
    "value_counts_open_alex_trec = add_average_journal_impact(value_counts_open_alex_trec, journal_dict_trec, \"conference\")"
   ]
  },
  {
   "cell_type": "code",
   "execution_count": 112,
   "id": "33ab2116-f09e-447c-96ce-53c94279b170",
   "metadata": {},
   "outputs": [
    {
     "data": {
      "text/html": [
       "<div>\n",
       "<style scoped>\n",
       "    .dataframe tbody tr th:only-of-type {\n",
       "        vertical-align: middle;\n",
       "    }\n",
       "\n",
       "    .dataframe tbody tr th {\n",
       "        vertical-align: top;\n",
       "    }\n",
       "\n",
       "    .dataframe thead th {\n",
       "        text-align: right;\n",
       "    }\n",
       "</style>\n",
       "<table border=\"1\" class=\"dataframe\">\n",
       "  <thead>\n",
       "    <tr style=\"text-align: right;\">\n",
       "      <th></th>\n",
       "      <th>id</th>\n",
       "      <th>frequency</th>\n",
       "      <th>average_journal_impact</th>\n",
       "      <th>journal_names</th>\n",
       "    </tr>\n",
       "  </thead>\n",
       "  <tbody>\n",
       "    <tr>\n",
       "      <th>0</th>\n",
       "      <td>journal_2</td>\n",
       "      <td>170</td>\n",
       "      <td>0.714286</td>\n",
       "      <td>[[Cross-Language Evaluation Forum, https://ope...</td>\n",
       "    </tr>\n",
       "    <tr>\n",
       "      <th>1</th>\n",
       "      <td>journal_11</td>\n",
       "      <td>74</td>\n",
       "      <td>0.418182</td>\n",
       "      <td>[[International Conference on Computational Li...</td>\n",
       "    </tr>\n",
       "    <tr>\n",
       "      <th>2</th>\n",
       "      <td>journal_20</td>\n",
       "      <td>65</td>\n",
       "      <td>0.000000</td>\n",
       "      <td>[[Text REtrieval Conference, https://openalex....</td>\n",
       "    </tr>\n",
       "    <tr>\n",
       "      <th>3</th>\n",
       "      <td>journal_8</td>\n",
       "      <td>58</td>\n",
       "      <td>9.110706</td>\n",
       "      <td>[[Meeting of the Association for Computational...</td>\n",
       "    </tr>\n",
       "    <tr>\n",
       "      <th>4</th>\n",
       "      <td>journal_3</td>\n",
       "      <td>31</td>\n",
       "      <td>1.203488</td>\n",
       "      <td>[[Recent Advances in Natural Language Processi...</td>\n",
       "    </tr>\n",
       "    <tr>\n",
       "      <th>5</th>\n",
       "      <td>journal_10</td>\n",
       "      <td>25</td>\n",
       "      <td>2.073171</td>\n",
       "      <td>[[International Joint Conference on Natural La...</td>\n",
       "    </tr>\n",
       "    <tr>\n",
       "      <th>6</th>\n",
       "      <td>journal_64</td>\n",
       "      <td>24</td>\n",
       "      <td>10.494881</td>\n",
       "      <td>[[North American Chapter of the Association fo...</td>\n",
       "    </tr>\n",
       "    <tr>\n",
       "      <th>7</th>\n",
       "      <td>journal_9</td>\n",
       "      <td>19</td>\n",
       "      <td>0.000000</td>\n",
       "      <td>[[Pacific Asia Conference on Language, Informa...</td>\n",
       "    </tr>\n",
       "    <tr>\n",
       "      <th>8</th>\n",
       "      <td>journal_13</td>\n",
       "      <td>17</td>\n",
       "      <td>1.461295</td>\n",
       "      <td>[[Empirical Methods in Natural Language Proces...</td>\n",
       "    </tr>\n",
       "    <tr>\n",
       "      <th>9</th>\n",
       "      <td>journal_4</td>\n",
       "      <td>15</td>\n",
       "      <td>6.388747</td>\n",
       "      <td>[[Conference of the European Chapter of the As...</td>\n",
       "    </tr>\n",
       "    <tr>\n",
       "      <th>10</th>\n",
       "      <td>journal_74</td>\n",
       "      <td>14</td>\n",
       "      <td>0.000000</td>\n",
       "      <td>[[Geographic Information Retrieval, https://op...</td>\n",
       "    </tr>\n",
       "  </tbody>\n",
       "</table>\n",
       "</div>"
      ],
      "text/plain": [
       "            id  frequency  average_journal_impact                                      journal_names\n",
       "0    journal_2        170                0.714286  [[Cross-Language Evaluation Forum, https://ope...\n",
       "1   journal_11         74                0.418182  [[International Conference on Computational Li...\n",
       "2   journal_20         65                0.000000  [[Text REtrieval Conference, https://openalex....\n",
       "3    journal_8         58                9.110706  [[Meeting of the Association for Computational...\n",
       "4    journal_3         31                1.203488  [[Recent Advances in Natural Language Processi...\n",
       "5   journal_10         25                2.073171  [[International Joint Conference on Natural La...\n",
       "6   journal_64         24               10.494881  [[North American Chapter of the Association fo...\n",
       "7    journal_9         19                0.000000  [[Pacific Asia Conference on Language, Informa...\n",
       "8   journal_13         17                1.461295  [[Empirical Methods in Natural Language Proces...\n",
       "9    journal_4         15                6.388747  [[Conference of the European Chapter of the As...\n",
       "10  journal_74         14                0.000000  [[Geographic Information Retrieval, https://op..."
      ]
     },
     "execution_count": 112,
     "metadata": {},
     "output_type": "execute_result"
    }
   ],
   "source": [
    "value_counts_open_alex_ceur = add_journal_ids(value_counts_open_alex_ceur, journal_dict_ceur, \"conference\")\n",
    "top_10 = value_counts_open_alex_ceur.head(11)\n",
    "top_10"
   ]
  },
  {
   "cell_type": "code",
   "execution_count": 113,
   "id": "bd27eb09-6084-47eb-bfc1-b0e16a49f560",
   "metadata": {},
   "outputs": [
    {
     "data": {
      "text/html": [
       "<div>\n",
       "<style scoped>\n",
       "    .dataframe tbody tr th:only-of-type {\n",
       "        vertical-align: middle;\n",
       "    }\n",
       "\n",
       "    .dataframe tbody tr th {\n",
       "        vertical-align: top;\n",
       "    }\n",
       "\n",
       "    .dataframe thead th {\n",
       "        text-align: right;\n",
       "    }\n",
       "</style>\n",
       "<table border=\"1\" class=\"dataframe\">\n",
       "  <thead>\n",
       "    <tr style=\"text-align: right;\">\n",
       "      <th></th>\n",
       "      <th>id</th>\n",
       "      <th>frequency</th>\n",
       "      <th>average_journal_impact</th>\n",
       "      <th>journal_names</th>\n",
       "    </tr>\n",
       "  </thead>\n",
       "  <tbody>\n",
       "    <tr>\n",
       "      <th>0</th>\n",
       "      <td>journal_0</td>\n",
       "      <td>56</td>\n",
       "      <td>0.714286</td>\n",
       "      <td>[[Cross-Language Evaluation Forum, https://ope...</td>\n",
       "    </tr>\n",
       "    <tr>\n",
       "      <th>1</th>\n",
       "      <td>journal_3</td>\n",
       "      <td>55</td>\n",
       "      <td>0.000000</td>\n",
       "      <td>[[Text REtrieval Conference, https://openalex....</td>\n",
       "    </tr>\n",
       "    <tr>\n",
       "      <th>2</th>\n",
       "      <td>journal_7</td>\n",
       "      <td>45</td>\n",
       "      <td>9.110706</td>\n",
       "      <td>[[Meeting of the Association for Computational...</td>\n",
       "    </tr>\n",
       "    <tr>\n",
       "      <th>3</th>\n",
       "      <td>journal_1</td>\n",
       "      <td>37</td>\n",
       "      <td>0.418182</td>\n",
       "      <td>[[International Conference on Computational Li...</td>\n",
       "    </tr>\n",
       "    <tr>\n",
       "      <th>4</th>\n",
       "      <td>journal_11</td>\n",
       "      <td>17</td>\n",
       "      <td>10.494881</td>\n",
       "      <td>[[North American Chapter of the Association fo...</td>\n",
       "    </tr>\n",
       "    <tr>\n",
       "      <th>5</th>\n",
       "      <td>journal_8</td>\n",
       "      <td>14</td>\n",
       "      <td>2.073171</td>\n",
       "      <td>[[International Joint Conference on Natural La...</td>\n",
       "    </tr>\n",
       "    <tr>\n",
       "      <th>6</th>\n",
       "      <td>journal_9</td>\n",
       "      <td>13</td>\n",
       "      <td>1.203488</td>\n",
       "      <td>[[Recent Advances in Natural Language Processi...</td>\n",
       "    </tr>\n",
       "    <tr>\n",
       "      <th>7</th>\n",
       "      <td>journal_17</td>\n",
       "      <td>11</td>\n",
       "      <td>5.236902</td>\n",
       "      <td>[[Proceedings of the 45th International ACM SI...</td>\n",
       "    </tr>\n",
       "    <tr>\n",
       "      <th>8</th>\n",
       "      <td>journal_4</td>\n",
       "      <td>9</td>\n",
       "      <td>6.388747</td>\n",
       "      <td>[[Conference of the European Chapter of the As...</td>\n",
       "    </tr>\n",
       "    <tr>\n",
       "      <th>9</th>\n",
       "      <td>journal_14</td>\n",
       "      <td>9</td>\n",
       "      <td>0.000000</td>\n",
       "      <td>[[Geographic Information Retrieval, https://op...</td>\n",
       "    </tr>\n",
       "    <tr>\n",
       "      <th>10</th>\n",
       "      <td>journal_10</td>\n",
       "      <td>8</td>\n",
       "      <td>0.000000</td>\n",
       "      <td>[[Pacific Asia Conference on Language, Informa...</td>\n",
       "    </tr>\n",
       "  </tbody>\n",
       "</table>\n",
       "</div>"
      ],
      "text/plain": [
       "            id  frequency  average_journal_impact                                      journal_names\n",
       "0    journal_0         56                0.714286  [[Cross-Language Evaluation Forum, https://ope...\n",
       "1    journal_3         55                0.000000  [[Text REtrieval Conference, https://openalex....\n",
       "2    journal_7         45                9.110706  [[Meeting of the Association for Computational...\n",
       "3    journal_1         37                0.418182  [[International Conference on Computational Li...\n",
       "4   journal_11         17               10.494881  [[North American Chapter of the Association fo...\n",
       "5    journal_8         14                2.073171  [[International Joint Conference on Natural La...\n",
       "6    journal_9         13                1.203488  [[Recent Advances in Natural Language Processi...\n",
       "7   journal_17         11                5.236902  [[Proceedings of the 45th International ACM SI...\n",
       "8    journal_4          9                6.388747  [[Conference of the European Chapter of the As...\n",
       "9   journal_14          9                0.000000  [[Geographic Information Retrieval, https://op...\n",
       "10  journal_10          8                0.000000  [[Pacific Asia Conference on Language, Informa..."
      ]
     },
     "execution_count": 113,
     "metadata": {},
     "output_type": "execute_result"
    }
   ],
   "source": [
    "value_counts_open_alex_lncs = add_journal_ids(value_counts_open_alex_lncs, journal_dict_lncs, \"conference\")\n",
    "top_10 = value_counts_open_alex_lncs.head(11)\n",
    "top_10"
   ]
  },
  {
   "cell_type": "code",
   "execution_count": 114,
   "id": "f7b1b192-8b8c-49ae-880a-ec05059fef9d",
   "metadata": {},
   "outputs": [
    {
     "name": "stdout",
     "output_type": "stream",
     "text": [
      "[['Cross-Language Evaluation Forum', 'https://openalex.org/S4306418139', 0.7142857142857143]]\n",
      "[['Text REtrieval Conference', 'https://openalex.org/S4306421043', 0.0]]\n",
      "[['Meeting of the Association for Computational Linguistics', 'https://openalex.org/S4306420508', 9.110706482155862]]\n",
      "[['International Conference on Computational Linguistics', 'https://openalex.org/S4306419219', 0.41818181818181815]]\n",
      "[['North American Chapter of the Association for Computational Linguistics', 'https://openalex.org/S4306420633', 10.494880546075086]]\n",
      "[['International Joint Conference on Natural Language Processing', 'https://openalex.org/S4306420006', 2.073170731707317]]\n",
      "[['Recent Advances in Natural Language Processing', 'https://openalex.org/S4306420780', 1.2034883720930232]]\n",
      "[['Proceedings of the 45th International ACM SIGIR Conference on Research and Development in Information Retrieval', 'https://openalex.org/S4363608773', 5.236902050113895]]\n",
      "[['Conference of the European Chapter of the Association for Computational Linguistics', 'https://openalex.org/S4306418011', 6.388746803069053]]\n",
      "[['Geographic Information Retrieval', 'https://openalex.org/S4306418477', 0.0]]\n",
      "[['Pacific Asia Conference on Language, Information, and Computation', 'https://openalex.org/S4306420659', 0.0]]\n"
     ]
    }
   ],
   "source": [
    "for i in top_10[\"journal_names\"]:\n",
    "    print(i)"
   ]
  },
  {
   "cell_type": "code",
   "execution_count": 115,
   "id": "50031838-333e-4e5e-b7a0-b914a03fd55c",
   "metadata": {},
   "outputs": [
    {
     "data": {
      "text/html": [
       "<div>\n",
       "<style scoped>\n",
       "    .dataframe tbody tr th:only-of-type {\n",
       "        vertical-align: middle;\n",
       "    }\n",
       "\n",
       "    .dataframe tbody tr th {\n",
       "        vertical-align: top;\n",
       "    }\n",
       "\n",
       "    .dataframe thead th {\n",
       "        text-align: right;\n",
       "    }\n",
       "</style>\n",
       "<table border=\"1\" class=\"dataframe\">\n",
       "  <thead>\n",
       "    <tr style=\"text-align: right;\">\n",
       "      <th></th>\n",
       "      <th>id</th>\n",
       "      <th>frequency</th>\n",
       "      <th>average_journal_impact</th>\n",
       "      <th>journal_names</th>\n",
       "    </tr>\n",
       "  </thead>\n",
       "  <tbody>\n",
       "    <tr>\n",
       "      <th>0</th>\n",
       "      <td>journal_0</td>\n",
       "      <td>1528</td>\n",
       "      <td>0.000000</td>\n",
       "      <td>[[Text REtrieval Conference, https://openalex....</td>\n",
       "    </tr>\n",
       "    <tr>\n",
       "      <th>1</th>\n",
       "      <td>journal_21</td>\n",
       "      <td>47</td>\n",
       "      <td>9.110706</td>\n",
       "      <td>[[Meeting of the Association for Computational...</td>\n",
       "    </tr>\n",
       "    <tr>\n",
       "      <th>2</th>\n",
       "      <td>journal_2</td>\n",
       "      <td>43</td>\n",
       "      <td>10.494881</td>\n",
       "      <td>[[North American Chapter of the Association fo...</td>\n",
       "    </tr>\n",
       "    <tr>\n",
       "      <th>3</th>\n",
       "      <td>journal_9</td>\n",
       "      <td>43</td>\n",
       "      <td>5.776542</td>\n",
       "      <td>[[Proceedings of the ... AAAI Conference on Ar...</td>\n",
       "    </tr>\n",
       "    <tr>\n",
       "      <th>4</th>\n",
       "      <td>journal_8</td>\n",
       "      <td>36</td>\n",
       "      <td>0.418182</td>\n",
       "      <td>[[International Conference on Computational Li...</td>\n",
       "    </tr>\n",
       "    <tr>\n",
       "      <th>5</th>\n",
       "      <td>journal_18</td>\n",
       "      <td>32</td>\n",
       "      <td>1.421965</td>\n",
       "      <td>[[National Conference on Artificial Intelligen...</td>\n",
       "    </tr>\n",
       "    <tr>\n",
       "      <th>6</th>\n",
       "      <td>journal_5</td>\n",
       "      <td>31</td>\n",
       "      <td>2.073171</td>\n",
       "      <td>[[International Joint Conference on Natural La...</td>\n",
       "    </tr>\n",
       "    <tr>\n",
       "      <th>7</th>\n",
       "      <td>journal_1</td>\n",
       "      <td>26</td>\n",
       "      <td>0.000000</td>\n",
       "      <td>[[European Conference on Information Retrieval...</td>\n",
       "    </tr>\n",
       "    <tr>\n",
       "      <th>8</th>\n",
       "      <td>journal_84</td>\n",
       "      <td>26</td>\n",
       "      <td>0.000000</td>\n",
       "      <td>[[Conference on Email and Anti-Spam, https://o...</td>\n",
       "    </tr>\n",
       "    <tr>\n",
       "      <th>9</th>\n",
       "      <td>journal_35</td>\n",
       "      <td>23</td>\n",
       "      <td>1.461295</td>\n",
       "      <td>[[Empirical Methods in Natural Language Proces...</td>\n",
       "    </tr>\n",
       "    <tr>\n",
       "      <th>10</th>\n",
       "      <td>journal_20</td>\n",
       "      <td>23</td>\n",
       "      <td>6.576923</td>\n",
       "      <td>[[International ACM SIGIR Conference on Resear...</td>\n",
       "    </tr>\n",
       "  </tbody>\n",
       "</table>\n",
       "</div>"
      ],
      "text/plain": [
       "            id  frequency  average_journal_impact                                      journal_names\n",
       "0    journal_0       1528                0.000000  [[Text REtrieval Conference, https://openalex....\n",
       "1   journal_21         47                9.110706  [[Meeting of the Association for Computational...\n",
       "2    journal_2         43               10.494881  [[North American Chapter of the Association fo...\n",
       "3    journal_9         43                5.776542  [[Proceedings of the ... AAAI Conference on Ar...\n",
       "4    journal_8         36                0.418182  [[International Conference on Computational Li...\n",
       "5   journal_18         32                1.421965  [[National Conference on Artificial Intelligen...\n",
       "6    journal_5         31                2.073171  [[International Joint Conference on Natural La...\n",
       "7    journal_1         26                0.000000  [[European Conference on Information Retrieval...\n",
       "8   journal_84         26                0.000000  [[Conference on Email and Anti-Spam, https://o...\n",
       "9   journal_35         23                1.461295  [[Empirical Methods in Natural Language Proces...\n",
       "10  journal_20         23                6.576923  [[International ACM SIGIR Conference on Resear..."
      ]
     },
     "execution_count": 115,
     "metadata": {},
     "output_type": "execute_result"
    }
   ],
   "source": [
    "value_counts_open_alex_trec = add_journal_ids(value_counts_open_alex_trec, journal_dict_trec, \"conference\")\n",
    "top_10 = value_counts_open_alex_trec.head(11)\n",
    "top_10"
   ]
  },
  {
   "cell_type": "code",
   "execution_count": 116,
   "id": "544b5b3e-7768-47d3-8e58-2ebd99d3784e",
   "metadata": {},
   "outputs": [],
   "source": [
    "expanded_data_lncs = []\n",
    "\n",
    "for _, row in value_counts_open_alex_lncs.iterrows():\n",
    "    expanded_data_lncs.extend([row['average_conference_impact']] * int(row['frequency']))\n",
    "\n",
    "# Umwandeln der replizierten Daten in ein DataFrame\n",
    "expanded_df_lncs = pd.DataFrame(expanded_data_lncs, columns=['average_conference_impact'])"
   ]
  },
  {
   "cell_type": "code",
   "execution_count": 117,
   "id": "2296f38a-ac30-48e1-9285-167416c97db5",
   "metadata": {},
   "outputs": [],
   "source": [
    "expanded_data_ceur = []\n",
    "\n",
    "for _, row in value_counts_open_alex_ceur.iterrows():\n",
    "    expanded_data_ceur.extend([row['average_conference_impact']] * int(row['frequency']))\n",
    "\n",
    "# Umwandeln der replizierten Daten in ein DataFrame\n",
    "expanded_df_ceur = pd.DataFrame(expanded_data_ceur, columns=['average_conference_impact'])"
   ]
  },
  {
   "cell_type": "code",
   "execution_count": 118,
   "id": "38eccc74-abb7-47f8-aa4f-daed2f8b732f",
   "metadata": {},
   "outputs": [],
   "source": [
    "expanded_data_trec = []\n",
    "\n",
    "for _, row in value_counts_open_alex_trec.iterrows():\n",
    "    expanded_data_trec.extend([row['average_conference_impact']] * int(row['frequency']))\n",
    "\n",
    "# Umwandeln der replizierten Daten in ein DataFrame\n",
    "expanded_df_trec = pd.DataFrame(expanded_data_trec, columns=['average_conference_impact'])"
   ]
  },
  {
   "cell_type": "code",
   "execution_count": 119,
   "id": "06d01623-d687-4340-8805-f2ceeb7c7d51",
   "metadata": {},
   "outputs": [
    {
     "name": "stdout",
     "output_type": "stream",
     "text": [
      "Shapiro-Wilk Test Gruppe A: Statistik = 0.6422074696963672, p-Wert = 9.128401133465151e-39\n",
      "Shapiro-Wilk Test Gruppe B: Statistik = 0.7451575968040867, p-Wert = 1.5126682619096295e-25\n",
      "Shapiro-Wilk Test Gruppe B: Statistik = 0.4070487730215465, p-Wert = 2.703474431339863e-64\n"
     ]
    }
   ],
   "source": [
    "stat_a, p_value_a = shapiro(expanded_df_ceur['average_conference_impact'])\n",
    "print(f\"Shapiro-Wilk Test CEUR: Statistic = {stat_a}, p-value = {p_value_a}\")\n",
    "\n",
    "# Für Gruppe B\n",
    "stat_b, p_value_b = shapiro(expanded_df_lncs['average_conference_impact'])\n",
    "print(f\"Shapiro-Wilk Test LNCS: Statistic = {stat_b}, p-value = {p_value_b}\")\n",
    "\n",
    "# Für Gruppe C\n",
    "stat_c, p_value_c = shapiro(expanded_df_trec['average_conference_impact'])\n",
    "print(f\"Shapiro-Wilk Test TREC: Statistic = {stat_c}, p-value = {p_value_c}\")"
   ]
  },
  {
   "cell_type": "code",
   "execution_count": 120,
   "id": "e3643ec0-7622-490b-a4eb-f287d82f0200",
   "metadata": {},
   "outputs": [
    {
     "name": "stdout",
     "output_type": "stream",
     "text": [
      "Levene Test: Statistik = 67.06426496893172, p-Wert = 3.8439755865753164e-16\n"
     ]
    }
   ],
   "source": [
    "stat, p_value = levene(expanded_df_trec['average_conference_impact'], expanded_df_ceur['average_conference_impact'])\n",
    "print(f\"Levene Test: Statistic = {stat}, p-value = {p_value}\")"
   ]
  },
  {
   "cell_type": "code",
   "execution_count": 121,
   "id": "e2a09ab2-979d-46c2-9479-7fea34871cf8",
   "metadata": {},
   "outputs": [
    {
     "name": "stdout",
     "output_type": "stream",
     "text": [
      "Levene Test: Statistik = 160.22756919458496, p-Wert = 1.1218566193223456e-35\n"
     ]
    }
   ],
   "source": [
    "stat, p_value = levene(expanded_df_trec['average_conference_impact'], expanded_df_lncs['average_conference_impact'])\n",
    "print(f\"Levene Test: Statistic = {stat}, p-value = {p_value}\")"
   ]
  },
  {
   "cell_type": "code",
   "execution_count": 122,
   "id": "59f35d18-610f-4d20-8ec4-f174d5d4fded",
   "metadata": {},
   "outputs": [
    {
     "name": "stdout",
     "output_type": "stream",
     "text": [
      "Mann-Whitney U-Test A vs B: U-Statistik = 430348.0, p-Wert = 6.220563271611711e-153\n",
      "Mann-Whitney U-Test A vs C: U-Statistik = 229475.0, p-Wert = 3.2740403253620714e-102\n"
     ]
    }
   ],
   "source": [
    "\n",
    "# Vergleich Gruppe A und Gruppe B\n",
    "u_stat_ab, p_value_ab = mannwhitneyu(expanded_df_trec['average_conference_impact'], expanded_df_ceur['average_conference_impact'])\n",
    "print(f\"Mann-Whitney U-Test TREC vs CEUR: U-Statistic = {u_stat_ab}, p-value = {p_value_ab}\")\n",
    "\n",
    "# Vergleich Gruppe A und Gruppe C\n",
    "u_stat_ac, p_value_ac = mannwhitneyu(expanded_df_trec['average_conference_impact'], expanded_df_lncs['average_conference_impact'])\n",
    "print(f\"Mann-Whitney U-Test TREC vs LNCS: U-Statistic = {u_stat_ac}, p-value = {p_value_ac}\")"
   ]
  },
  {
   "cell_type": "code",
   "execution_count": 123,
   "id": "2c816d08-2e39-4c87-8cea-e1a4b50cd94b",
   "metadata": {},
   "outputs": [
    {
     "name": "stdout",
     "output_type": "stream",
     "text": [
      "Median A: 0.0\n",
      "Median B: 0.7142857142857143\n",
      "Gruppe B hat tendenziell höhere Werte als Gruppe A.\n"
     ]
    }
   ],
   "source": [
    "median_a = expanded_df_trec['average_conference_impact'].median()\n",
    "median_b = expanded_df_ceur['average_conference_impact'].median()\n",
    "\n",
    "print(f\"Median TREC: {median_a}\")\n",
    "print(f\"Median CEUR: {median_b}\")\n",
    "\n",
    "if median_a > median_b:\n",
    "    print(\"TREC tends to have higher values than CEUR.\")\n",
    "else:\n",
    "    print(\"CEUR tends to have higher values than TREC.\")"
   ]
  },
  {
   "cell_type": "code",
   "execution_count": 124,
   "id": "dbb099b3-d64e-44e2-a75d-67fd0ed88363",
   "metadata": {},
   "outputs": [
    {
     "name": "stdout",
     "output_type": "stream",
     "text": [
      "Median A: 0.0\n",
      "Median B: 0.7142857142857143\n",
      "Gruppe B hat tendenziell höhere Werte als Gruppe A.\n"
     ]
    }
   ],
   "source": [
    "median_a = expanded_df_trec['average_conference_impact'].median()\n",
    "median_b = expanded_df_lncs['average_conference_impact'].median()\n",
    "\n",
    "print(f\"Median TREC: {median_a}\")\n",
    "print(f\"Median LNCS: {median_b}\")\n",
    "\n",
    "if median_a > median_b:\n",
    "    print(\"TREC tends to have higher values than LNCS.\")\n",
    "else:\n",
    "    print(\"LNCS tends to have higher values than TREC.\")"
   ]
  },
  {
   "cell_type": "code",
   "execution_count": null,
   "id": "d18a7da8-7b01-4e0a-a0d6-b074572ae912",
   "metadata": {},
   "outputs": [],
   "source": []
  }
 ],
 "metadata": {
  "kernelspec": {
   "display_name": "Python (MasterThesisEnv)",
   "language": "python",
   "name": "masterthesisenv"
  },
  "language_info": {
   "codemirror_mode": {
    "name": "ipython",
    "version": 3
   },
   "file_extension": ".py",
   "mimetype": "text/x-python",
   "name": "python",
   "nbconvert_exporter": "python",
   "pygments_lexer": "ipython3",
   "version": "3.10.8"
  }
 },
 "nbformat": 4,
 "nbformat_minor": 5
}
